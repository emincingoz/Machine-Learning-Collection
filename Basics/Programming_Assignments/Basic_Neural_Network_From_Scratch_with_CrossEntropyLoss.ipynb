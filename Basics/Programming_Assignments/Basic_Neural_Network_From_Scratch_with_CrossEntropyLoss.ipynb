{
  "nbformat": 4,
  "nbformat_minor": 0,
  "metadata": {
    "colab": {
      "name": "Question4.ipynb",
      "provenance": [],
      "collapsed_sections": []
    },
    "kernelspec": {
      "name": "python3",
      "display_name": "Python 3"
    },
    "language_info": {
      "name": "python"
    }
  },
  "cells": [
    {
      "cell_type": "markdown",
      "source": [
        "# Question 4"
      ],
      "metadata": {
        "id": "SqUwf7W2EN7b"
      }
    },
    {
      "cell_type": "markdown",
      "source": [
        "## Datasets"
      ],
      "metadata": {
        "id": "JuDyRkq-ERmB"
      }
    },
    {
      "cell_type": "code",
      "execution_count": 1,
      "metadata": {
        "id": "9qW-KwSuLa6v"
      },
      "outputs": [],
      "source": [
        "import numpy as np\n",
        "import matplotlib.pyplot as plt\n",
        "%matplotlib inline\n",
        "\n",
        "X = np.array([[0, 0, 1],\n",
        "               [0, 1, 1],\n",
        "               [1, 0, 1],\n",
        "               [1, 1, 1]])"
      ]
    },
    {
      "cell_type": "code",
      "source": [
        "y = np.array([[0],\n",
        "             [1],\n",
        "             [1],\n",
        "             [0]])"
      ],
      "metadata": {
        "id": "6_KiMGLYLfdB"
      },
      "execution_count": 2,
      "outputs": []
    },
    {
      "cell_type": "code",
      "source": [
        "np.random.seed(1)"
      ],
      "metadata": {
        "id": "JbGrW8WqLg_g"
      },
      "execution_count": 3,
      "outputs": []
    },
    {
      "cell_type": "markdown",
      "source": [
        "## Model"
      ],
      "metadata": {
        "id": "rU2kIFOeET9L"
      }
    },
    {
      "cell_type": "code",
      "source": [
        "class Model:\n",
        "\n",
        "  def __init__(self, x_train, y_train, alpha = 0.05, batch = 60000):\n",
        "    # initalize the weights randomly \n",
        "    # weight initialization depends on array dimensions\n",
        "    self.w0 = 2*np.random.random((x_train.shape[1],x_train.shape[0])) -1\n",
        "    self.w1 = 2*np.random.random((y_train.shape[0],1))\n",
        "    self.x = x_train\n",
        "    self.y = y_train\n",
        "    self.alpha = alpha\n",
        "    self.batch = batch\n",
        "    self.losses = []\n",
        "\n",
        "  #eq #1 \n",
        "  def sigmoid(self, z):\n",
        "    return 1 / (1 + np.exp( -z ))\n",
        "\n",
        "  # sigmoid prime eq # 2\n",
        "  def sigmoid_prime(self, z):\n",
        "    return (z * (1 - z))\n",
        "\n",
        "  # Cross-entropy loss function implemented\n",
        "  def cross_entropy(self, y, a, n):\n",
        "    return (y * np.log(a)) + ((1 - y) * np.log(1 - a)) / float((-1)/n)\n",
        "  \n",
        "  def train(self, verbose = 1):\n",
        "    \n",
        "    for cntr in range(self.batch):\n",
        "\n",
        "      batch_x = self.x\n",
        "      batch_y = self.y\n",
        "      n = batch_x.shape[0]\n",
        "      a0 = batch_x \n",
        "      z1 = np.dot(a0, self.w0)\n",
        "      a1 = self.sigmoid(z1)\n",
        "      z2 = np.dot(a1, self.w1)\n",
        "\n",
        "      # second layer activation function values \n",
        "      a2 = self.sigmoid(z2)\n",
        "\n",
        "      #l2_error = (a2 - batch_y)/n\n",
        "      l2_error = self.cross_entropy(batch_y, a2, n)\n",
        "\n",
        "      if cntr % 1000 == 0 and verbose == 1:\n",
        "        print(\"Error: \", str(np.mean(np.mean(np.abs(l2_error)))))\n",
        "      if cntr % 1000 == 0:\n",
        "        self.losses.append(np.mean(np.mean(np.abs(l2_error))))\n",
        "\n",
        "      # eq 6\n",
        "      l2_delta = l2_error * self.sigmoid_prime(a2)\n",
        "\n",
        "      l1_error = l2_delta.dot(self.w1.T)\n",
        "\n",
        "      # eq 7 \n",
        "      l1_delta = l1_error * self.sigmoid_prime(a1)\n",
        "\n",
        "      # eq #  5 \n",
        "      self.w1 -= self.alpha*a1.T.dot(l2_delta)\n",
        "      self.w0 -= self.alpha*a0.T.dot(l1_delta)\n",
        "\n",
        "    # return output after training\n",
        "    return a2\n",
        "\n",
        "  def predict(self, x_test):\n",
        "    batch_x = x_test\n",
        "    a0 = batch_x \n",
        "    z1 = np.dot(a0, self.w0)\n",
        "    a1 = self.sigmoid(z1)\n",
        "    z2 = np.dot(a1, self.w1)\n",
        "\n",
        "    # second layer activation function values \n",
        "    a2 = self.sigmoid(z2)\n",
        "\n",
        "    return a2\n",
        "\n",
        "  def plot_error(self):\n",
        "    plt.plot(self.losses)\n",
        "    plt.show()"
      ],
      "metadata": {
        "id": "tOR6QGFxf7ST"
      },
      "execution_count": 4,
      "outputs": []
    },
    {
      "cell_type": "markdown",
      "source": [
        "## Train, Test and Prediction"
      ],
      "metadata": {
        "id": "HWEt797mEWfx"
      }
    },
    {
      "cell_type": "code",
      "source": [
        "def test_NN():\n",
        "  X1 = [1, 1, 0]\n",
        "  X2 = [1, 1, 1]\n",
        "  \n",
        "  # model object\n",
        "  model = Model(X, y)\n",
        "\n",
        "  # Train the model\n",
        "  a2 = model.train(verbose = 1)\n",
        "\n",
        "  # Predictions\n",
        "  y1 = model.predict(X1)\n",
        "  y2 = model.predict(X2)\n",
        "\n",
        "  print('\\ny1: ', y1)\n",
        "  print('y2: ', y2)\n",
        "\n",
        "  print('\\n\\n')\n",
        "  # Visualize the model error\n",
        "  model.plot_error()"
      ],
      "metadata": {
        "id": "D88LXMc8Llmm"
      },
      "execution_count": 5,
      "outputs": []
    },
    {
      "cell_type": "code",
      "source": [
        "test_NN()"
      ],
      "metadata": {
        "colab": {
          "base_uri": "https://localhost:8080/",
          "height": 1000
        },
        "id": "-kkRdrFsLpuU",
        "outputId": "2a3e8a04-9541-4d8e-b00a-39574066644c"
      },
      "execution_count": 6,
      "outputs": [
        {
          "output_type": "stream",
          "name": "stdout",
          "text": [
            "Error:  3.7768834336295978\n",
            "Error:  1.2277455887253572\n",
            "Error:  0.7270532265257841\n",
            "Error:  0.3452186801012134\n",
            "Error:  0.21986405381609786\n",
            "Error:  0.16773523145492783\n",
            "Error:  0.1388150117178017\n",
            "Error:  0.12015094913541174\n",
            "Error:  0.10695748508619399\n",
            "Error:  0.09705043112133144\n",
            "Error:  0.08928555872079566\n",
            "Error:  0.0830024715631835\n",
            "Error:  0.07779165584898376\n",
            "Error:  0.07338473040047183\n",
            "Error:  0.06959791094269344\n",
            "Error:  0.06630076857595127\n",
            "Error:  0.06339795862801484\n",
            "Error:  0.0608180233683247\n",
            "Error:  0.058506255113567586\n",
            "Error:  0.05641999270529347\n",
            "Error:  0.05452543107697733\n",
            "Error:  0.05279540217248037\n",
            "Error:  0.05120779706801408\n",
            "Error:  0.04974442189257541\n",
            "Error:  0.04839015370581612\n",
            "Error:  0.04713230787464587\n",
            "Error:  0.04596015721818468\n",
            "Error:  0.04486456180262198\n",
            "Error:  0.04383768058038544\n",
            "Error:  0.04287274436976647\n",
            "Error:  0.041963875366222085\n",
            "Error:  0.04110594234587275\n",
            "Error:  0.04029444352880038\n",
            "Error:  0.03952541108176126\n",
            "Error:  0.038795332700119464\n",
            "Error:  0.03810108678080884\n",
            "Error:  0.03743988849362929\n",
            "Error:  0.03680924465446435\n",
            "Error:  0.036206915755129715\n",
            "Error:  0.035630883848908654\n",
            "Error:  0.03507932525581409\n",
            "Error:  0.03455058725715001\n",
            "Error:  0.03404316810950357\n",
            "Error:  0.033555699834611125\n",
            "Error:  0.03308693334156393\n",
            "Error:  0.032635725517495176\n",
            "Error:  0.03220102798675968\n",
            "Error:  0.031781877290077254\n",
            "Error:  0.031377386276804906\n",
            "Error:  0.030986736537454894\n",
            "Error:  0.030609171731352185\n",
            "Error:  0.0302439916871586\n",
            "Error:  0.029890547172832335\n",
            "Error:  0.02954823524722789\n",
            "Error:  0.0292164951185352\n",
            "Error:  0.02889480444563665\n",
            "Error:  0.02858267602756507\n",
            "Error:  0.02827965483392076\n",
            "Error:  0.02798531533557955\n",
            "Error:  0.02769925910051995\n",
            "\n",
            "y1:  [0.07977554]\n",
            "y2:  [0.00967298]\n",
            "\n",
            "\n",
            "\n"
          ]
        },
        {
          "output_type": "display_data",
          "data": {
            "text/plain": [
              "<Figure size 432x288 with 1 Axes>"
            ],
            "image/png": "[encoded data removed]"
          },
          "metadata": {
            "needs_background": "light"
          }
        }
      ]
    },
    {
      "cell_type": "code",
      "source": [
        ""
      ],
      "metadata": {
        "id": "FA0xvd7uLrVS"
      },
      "execution_count": 6,
      "outputs": []
    }
  ]
}