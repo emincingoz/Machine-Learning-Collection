{
  "nbformat": 4,
  "nbformat_minor": 0,
  "metadata": {
    "colab": {
      "name": "Question2.ipynb",
      "provenance": [],
      "collapsed_sections": []
    },
    "kernelspec": {
      "name": "python3",
      "display_name": "Python 3"
    },
    "language_info": {
      "name": "python"
    }
  },
  "cells": [
    {
      "cell_type": "markdown",
      "source": [
        "# Question 2"
      ],
      "metadata": {
        "id": "MT5ex2BWTpU_"
      }
    },
    {
      "cell_type": "markdown",
      "source": [
        "## Datasets"
      ],
      "metadata": {
        "id": "0NciTeMeTsje"
      }
    },
    {
      "cell_type": "code",
      "execution_count": 1,
      "metadata": {
        "id": "lWEGwWAxgYMZ"
      },
      "outputs": [],
      "source": [
        "import numpy as np\n",
        "\n",
        "X = np.array([[0, 0, 1],\n",
        "               [0, 1, 1],\n",
        "               [1, 0, 1],\n",
        "               [1, 1, 1]])"
      ]
    },
    {
      "cell_type": "code",
      "source": [
        "y = np.array([[0],\n",
        "             [1],\n",
        "             [1],\n",
        "             [0]])"
      ],
      "metadata": {
        "id": "yltIeDZxhQMf"
      },
      "execution_count": 2,
      "outputs": []
    },
    {
      "cell_type": "code",
      "source": [
        "np.random.seed(1)"
      ],
      "metadata": {
        "id": "cdQOVVqHhSCq"
      },
      "execution_count": 3,
      "outputs": []
    },
    {
      "cell_type": "markdown",
      "source": [
        "## Neural Network Model"
      ],
      "metadata": {
        "id": "s6vZDRVCTwMr"
      }
    },
    {
      "cell_type": "code",
      "source": [
        "class Model:\n",
        "\n",
        "  def __init__(self, x_train, y_train, alpha = 0.05, batch = 60000):\n",
        "    # initalize the weights randomly \n",
        "    # weight initialization depends on array dimensions\n",
        "    self.w0 = 2*np.random.random((x_train.shape[1],x_train.shape[0])) -1\n",
        "    self.w1 = 2*np.random.random((y_train.shape[0],1))\n",
        "    self.x = x_train\n",
        "    self.y = y_train\n",
        "    self.alpha = alpha\n",
        "    self.batch = batch\n",
        "\n",
        "  #eq #1 \n",
        "  def sigmoid(self, z):\n",
        "    return 1 / (1 + np.exp( -z ))\n",
        "\n",
        "  # sigmoid prime eq # 2\n",
        "  def sigmoid_prime(self, z):\n",
        "    return (z * (1 - z))\n",
        "\n",
        "  def get_minibatches(self, batch_size):\n",
        "    # To get random subset first combine the dependent and independent variables\n",
        "    # Because dataset needs to be shuffled. If they are not combined, the order\n",
        "    # of the indexes may be broken\n",
        "    dataset = np.hstack((self.x, self.y))\n",
        "    # Shuffle combined dataset\n",
        "    np.random.shuffle(dataset)\n",
        "\n",
        "    # To keep the seperated mini batches \n",
        "    mini_batches = []\n",
        "\n",
        "    # Döngü sıfırdan, veri setinin boyutuna kadar batch_size kadar artırılır.\n",
        "    for i in range(0, self.x.shape[0], batch_size):\n",
        "      # Seperate batches according to the batches\n",
        "      mini_batch = dataset[i:(i + (batch_size - 1)), :]\n",
        "      # Seperate the seperated batches into dependent, independent variables\n",
        "      x_mini = mini_batch[:, :-1]\n",
        "      y_mini = mini_batch[:, -1].reshape((-1, 1))\n",
        "      # Append to the list\n",
        "      mini_batches.append((x_mini, y_mini))\n",
        "\n",
        "    return mini_batches\n",
        "\n",
        "  \n",
        "  def train(self, batch_size = 2, verbose = 1):\n",
        "    \n",
        "    for cntr in range(self.batch):\n",
        "      mini_batches = self.get_minibatches(batch_size)\n",
        "      for mini_batch in mini_batches:\n",
        "        batch_x, batch_y = mini_batch\n",
        "        n = batch_x.shape[0]\n",
        "        a0 = batch_x \n",
        "        z1 = np.dot(a0, self.w0)\n",
        "        a1 = self.sigmoid(z1)\n",
        "        z2 = np.dot(a1, self.w1)\n",
        "\n",
        "        # second layer activation function values \n",
        "        a2 = self.sigmoid(z2)\n",
        "\n",
        "        l2_error = (a2 - batch_y)/n\n",
        "\n",
        "        if cntr % 1000 == 0 and verbose == 1:\n",
        "          print(\"Error: \", str(np.mean(np.mean(np.abs(l2_error)))))\n",
        "\n",
        "        # eq 6\n",
        "        l2_delta = l2_error * self.sigmoid_prime(a2)\n",
        "\n",
        "        l1_error = l2_delta.dot(self.w1.T)\n",
        "\n",
        "        # eq 7 \n",
        "        l1_delta = l1_error * self.sigmoid_prime(a1)\n",
        "\n",
        "        # eq #  5 \n",
        "        self.w1 -= self.alpha*a1.T.dot(l2_delta)\n",
        "        self.w0 -= self.alpha*a0.T.dot(l1_delta)\n",
        "\n",
        "    # return output after training\n",
        "    return a2\n",
        "\n",
        "  def predict(self, x_test):\n",
        "    batch_x = x_test\n",
        "    a0 = batch_x \n",
        "    z1 = np.dot(a0, self.w0)\n",
        "    a1 = self.sigmoid(z1)\n",
        "    z2 = np.dot(a1, self.w1)\n",
        "\n",
        "    # second layer activation function values \n",
        "    a2 = self.sigmoid(z2)\n",
        "\n",
        "    return a2"
      ],
      "metadata": {
        "id": "TPqK22GkhTXq"
      },
      "execution_count": 4,
      "outputs": []
    },
    {
      "cell_type": "markdown",
      "source": [
        "## Prediction and Test"
      ],
      "metadata": {
        "id": "dk9j3waST0f8"
      }
    },
    {
      "cell_type": "code",
      "source": [
        "def test_NN():\n",
        "  X1 = [1, 1, 0]\n",
        "  X2 = [1, 1, 1]\n",
        "  \n",
        "  model = Model(X, y)\n",
        "\n",
        "  a2 = model.train(batch_size = 2)\n",
        "\n",
        "  y1 = model.predict(X1)\n",
        "  y2 = model.predict(X2)\n",
        "\n",
        "  print('\\ny1: ', y1)\n",
        "  print('y2: ', y2)"
      ],
      "metadata": {
        "id": "jxdnm96_hXGe"
      },
      "execution_count": 5,
      "outputs": []
    },
    {
      "cell_type": "code",
      "source": [
        "test_NN()"
      ],
      "metadata": {
        "colab": {
          "base_uri": "https://localhost:8080/"
        },
        "id": "xIicMSiKhZTj",
        "outputId": "5520e777-c94c-4561-ea0b-2d9650465a3d"
      },
      "execution_count": 6,
      "outputs": [
        {
          "output_type": "stream",
          "name": "stdout",
          "text": [
            "Error:  0.8714719363566007\n",
            "Error:  0.19965558625584112\n",
            "Error:  0.4403590312207234\n",
            "Error:  0.5212993450601282\n",
            "Error:  0.45709786438879874\n",
            "Error:  0.5212058348280957\n",
            "Error:  0.434355862970496\n",
            "Error:  0.4385326964346503\n",
            "Error:  0.5210168362160554\n",
            "Error:  0.40218423700222483\n",
            "Error:  0.35304921615371015\n",
            "Error:  0.3593239565798947\n",
            "Error:  0.3049668970638942\n",
            "Error:  0.31086707848124584\n",
            "Error:  0.27329671059173916\n",
            "Error:  0.25894426637293644\n",
            "Error:  0.41303882727598573\n",
            "Error:  0.2371926245667968\n",
            "Error:  0.18901302313568236\n",
            "Error:  0.3685069774571832\n",
            "Error:  0.3185201564193556\n",
            "Error:  0.16649238592188267\n",
            "Error:  0.1585022007848378\n",
            "Error:  0.19275384654416639\n",
            "Error:  0.17777580346203636\n",
            "Error:  0.13992264562903625\n",
            "Error:  0.15881314929623247\n",
            "Error:  0.22758286334262606\n",
            "Error:  0.1042674209362614\n",
            "Error:  0.1455072331872861\n",
            "Error:  0.1283258247343254\n",
            "Error:  0.14129702364251218\n",
            "Error:  0.0835152563159633\n",
            "Error:  0.11817355681367858\n",
            "Error:  0.1434901578333934\n",
            "Error:  0.11080836590648924\n",
            "Error:  0.10081524949461107\n",
            "Error:  0.13138602087743165\n",
            "Error:  0.0916892357873017\n",
            "Error:  0.06603936250648698\n",
            "Error:  0.0882462754458081\n",
            "Error:  0.08876383071987437\n",
            "Error:  0.1073815671333758\n",
            "Error:  0.0816223994344154\n",
            "Error:  0.07587979733235073\n",
            "Error:  0.07884015357017404\n",
            "Error:  0.07264515148475004\n",
            "Error:  0.09687463091743964\n",
            "Error:  0.06910548341048628\n",
            "Error:  0.047131930946286454\n",
            "Error:  0.08868898201787696\n",
            "Error:  0.0449165286206688\n",
            "Error:  0.062152133746738225\n",
            "Error:  0.0855768451117566\n",
            "Error:  0.04176664492600158\n",
            "Error:  0.06004043449617158\n",
            "Error:  0.07891813476069437\n",
            "Error:  0.06137551914847916\n",
            "Error:  0.0761498270047616\n",
            "Error:  0.059433608225108236\n",
            "Error:  0.07345702388503682\n",
            "Error:  0.03686133533568908\n",
            "Error:  0.03575163104348799\n",
            "Error:  0.055495072849247706\n",
            "Error:  0.06950815958721493\n",
            "Error:  0.05122025142577746\n",
            "Error:  0.049349246505614786\n",
            "Error:  0.03373647577010386\n",
            "Error:  0.03260823741210465\n",
            "Error:  0.06594726996444547\n",
            "Error:  0.06435053367637196\n",
            "Error:  0.04681957081643695\n",
            "Error:  0.06213442112439122\n",
            "Error:  0.03042099401457539\n",
            "Error:  0.06077292351536096\n",
            "Error:  0.029545924861144764\n",
            "Error:  0.05981451462164035\n",
            "Error:  0.029142045032066403\n",
            "Error:  0.0582309451843404\n",
            "Error:  0.04276952232400255\n",
            "Error:  0.05739930939992149\n",
            "Error:  0.04141037818756821\n",
            "Error:  0.056117823665139954\n",
            "Error:  0.04062978857833188\n",
            "Error:  0.039766025151133255\n",
            "Error:  0.026675971988169848\n",
            "Error:  0.02599092199111173\n",
            "Error:  0.0427298087592235\n",
            "Error:  0.025692914569290546\n",
            "Error:  0.03807446384594804\n",
            "Error:  0.03718567381732463\n",
            "Error:  0.025192237072098833\n",
            "Error:  0.0366477233338417\n",
            "Error:  0.024606766644283993\n",
            "Error:  0.05051975355764257\n",
            "Error:  0.02416311981708655\n",
            "Error:  0.04935775122906829\n",
            "Error:  0.02353731590184428\n",
            "Error:  0.02329184115224646\n",
            "Error:  0.04891306116690657\n",
            "Error:  0.04803872171012813\n",
            "Error:  0.02281099323222389\n",
            "Error:  0.04727261612087103\n",
            "Error:  0.03795416464311574\n",
            "Error:  0.04641885463865283\n",
            "Error:  0.03344238770753083\n",
            "Error:  0.03676647552571777\n",
            "Error:  0.03296892072522939\n",
            "Error:  0.03245213462863439\n",
            "Error:  0.021460344735828193\n",
            "Error:  0.03562373191130874\n",
            "Error:  0.0448525780950829\n",
            "Error:  0.03134290300718778\n",
            "Error:  0.021043751117858115\n",
            "Error:  0.03457479178120393\n",
            "Error:  0.030911890400083797\n",
            "Error:  0.04315054820395342\n",
            "Error:  0.02048350561275567\n",
            "Error:  0.02027233636430218\n",
            "Error:  0.04275156260748021\n",
            "\n",
            "y1:  [0.12051219]\n",
            "y2:  [0.04233093]\n"
          ]
        }
      ]
    },
    {
      "cell_type": "code",
      "source": [
        ""
      ],
      "metadata": {
        "id": "oA8aVzD-7D0Z"
      },
      "execution_count": 6,
      "outputs": []
    }
  ]
}