{
  "nbformat": 4,
  "nbformat_minor": 0,
  "metadata": {
    "colab": {
      "name": "Question1.ipynb",
      "provenance": [],
      "collapsed_sections": []
    },
    "kernelspec": {
      "name": "python3",
      "display_name": "Python 3"
    },
    "language_info": {
      "name": "python"
    }
  },
  "cells": [
    {
      "cell_type": "markdown",
      "source": [
        "# Question 1"
      ],
      "metadata": {
        "id": "pZMxrvVUKNnB"
      }
    },
    {
      "cell_type": "markdown",
      "source": [
        "## Datasets"
      ],
      "metadata": {
        "id": "bFUQFRxaKTZO"
      }
    },
    {
      "cell_type": "code",
      "execution_count": 1,
      "metadata": {
        "id": "azFRoPMxHFlb"
      },
      "outputs": [],
      "source": [
        "import numpy as np\n",
        "\n",
        "X = np.array([[0, 0, 1],\n",
        "               [0, 1, 1],\n",
        "               [1, 0, 1],\n",
        "               [1, 1, 1]])"
      ]
    },
    {
      "cell_type": "code",
      "source": [
        "y = np.array([[0],\n",
        "             [1],\n",
        "             [1],\n",
        "             [0]])"
      ],
      "metadata": {
        "id": "ENEGQedkHYIK"
      },
      "execution_count": 2,
      "outputs": []
    },
    {
      "cell_type": "code",
      "source": [
        "np.random.seed(1)"
      ],
      "metadata": {
        "id": "jmLsaTe8HbaL"
      },
      "execution_count": 3,
      "outputs": []
    },
    {
      "cell_type": "markdown",
      "source": [
        "## Neural Network Model"
      ],
      "metadata": {
        "id": "1DdWbvloKcXm"
      }
    },
    {
      "cell_type": "code",
      "source": [
        "class Model:\n",
        "\n",
        "  def __init__(self, x_train, y_train, alpha = 0.05, batch = 60000):\n",
        "    # initalize the weights randomly \n",
        "    # weight initialization depends on array dimensions\n",
        "    self.w0 = 2*np.random.random((x_train.shape[1],x_train.shape[0])) -1\n",
        "    self.w1 = 2*np.random.random((y_train.shape[0],1))\n",
        "    self.x = x_train\n",
        "    self.y = y_train\n",
        "    self.alpha = alpha\n",
        "    self.batch = batch\n",
        "\n",
        "  #eq #1 \n",
        "  def sigmoid(self, z):\n",
        "    return 1 / (1 + np.exp( -z ))\n",
        "\n",
        "  # sigmoid prime eq # 2\n",
        "  def sigmoid_prime(self, z):\n",
        "    return (z * (1 - z))\n",
        "  \n",
        "  def train(self, verbose = 1):\n",
        "    \n",
        "    for cntr in range(self.batch):\n",
        "\n",
        "      batch_x = self.x\n",
        "      batch_y = self.y\n",
        "      n = batch_x.shape[0]\n",
        "      a0 = batch_x \n",
        "      z1 = np.dot(a0, self.w0)\n",
        "      a1 = self.sigmoid(z1)\n",
        "      z2 = np.dot(a1, self.w1)\n",
        "\n",
        "      # second layer activation function values \n",
        "      a2 = self.sigmoid(z2)\n",
        "\n",
        "      l2_error = (a2 - batch_y)/n\n",
        "\n",
        "      if cntr % 1000 == 0 and verbose == 1:\n",
        "        print(\"Error: \", str(np.mean(np.mean(np.abs(l2_error)))))\n",
        "\n",
        "      # eq 6\n",
        "      l2_delta = l2_error * self.sigmoid_prime(a2)\n",
        "\n",
        "      l1_error = l2_delta.dot(self.w1.T)\n",
        "\n",
        "      # eq 7 \n",
        "      l1_delta = l1_error * self.sigmoid_prime(a1)\n",
        "\n",
        "      # eq #  5 \n",
        "      self.w1 -= self.alpha*a1.T.dot(l2_delta)\n",
        "      self.w0 -= self.alpha*a0.T.dot(l1_delta)\n",
        "\n",
        "    # return output after training\n",
        "    return a2\n",
        "\n",
        "  def predict(self, x_test):\n",
        "    batch_x = x_test\n",
        "    a0 = batch_x \n",
        "    z1 = np.dot(a0, self.w0)\n",
        "    a1 = self.sigmoid(z1)\n",
        "    z2 = np.dot(a1, self.w1)\n",
        "\n",
        "    # second layer activation function values \n",
        "    a2 = self.sigmoid(z2)\n",
        "\n",
        "    return a2"
      ],
      "metadata": {
        "id": "zM_978y6Xyku"
      },
      "execution_count": 4,
      "outputs": []
    },
    {
      "cell_type": "markdown",
      "source": [
        "## Prediction/Testing"
      ],
      "metadata": {
        "id": "3FCofC7aKf25"
      }
    },
    {
      "cell_type": "code",
      "source": [
        "def test_NN():\n",
        "  X1 = [1, 1, 0]\n",
        "  X2 = [1, 1, 1]\n",
        "  \n",
        "  model = Model(X, y)\n",
        "\n",
        "  a2 = model.train(verbose = 0)\n",
        "\n",
        "  y1 = model.predict(X1)\n",
        "  y2 = model.predict(X2)\n",
        "\n",
        "  print('y1: ', y1)\n",
        "  print('y2: ', y2)"
      ],
      "metadata": {
        "id": "qg-oXYfrHuWG"
      },
      "execution_count": 5,
      "outputs": []
    },
    {
      "cell_type": "code",
      "source": [
        "test_NN()"
      ],
      "metadata": {
        "colab": {
          "base_uri": "https://localhost:8080/"
        },
        "id": "x6hcRbtNd8Ko",
        "outputId": "80f63de7-6188-4bcb-b3f1-8e9cb1735cc7"
      },
      "execution_count": 6,
      "outputs": [
        {
          "output_type": "stream",
          "name": "stdout",
          "text": [
            "y1:  [0.17093142]\n",
            "y2:  [0.072679]\n"
          ]
        }
      ]
    },
    {
      "cell_type": "code",
      "source": [
        ""
      ],
      "metadata": {
        "id": "3Veo64UTd-hP"
      },
      "execution_count": 6,
      "outputs": []
    },
    {
      "cell_type": "code",
      "source": [
        ""
      ],
      "metadata": {
        "id": "Ryagydv6HnPj"
      },
      "execution_count": 6,
      "outputs": []
    }
  ]
}