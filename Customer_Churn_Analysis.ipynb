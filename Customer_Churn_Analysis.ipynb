{
  "nbformat": 4,
  "nbformat_minor": 0,
  "metadata": {
    "colab": {
      "name": "Customer_Churn_Analysis.ipynb",
      "provenance": [],
      "collapsed_sections": [],
      "authorship_tag": "ABX9TyPDjKhYfbQfnH52wlR8blw/",
      "include_colab_link": true
    },
    "kernelspec": {
      "name": "python3",
      "display_name": "Python 3"
    },
    "language_info": {
      "name": "python"
    }
  },
  "cells": [
    {
      "cell_type": "markdown",
      "metadata": {
        "id": "view-in-github",
        "colab_type": "text"
      },
      "source": [
        "<a href=\"https://colab.research.google.com/github/emincingoz/Machine-Learning-Collection/blob/main/Customer_Churn_Analysis.ipynb\" target=\"_parent\"><img src=\"https://colab.research.google.com/assets/colab-badge.svg\" alt=\"Open In Colab\"/></a>"
      ]
    },
    {
      "cell_type": "markdown",
      "source": [
        "# Customer Churn Analysis"
      ],
      "metadata": {
        "id": "qT8lWQyC8Xc-"
      }
    },
    {
      "cell_type": "markdown",
      "source": [
        "## Data Preprocessing"
      ],
      "metadata": {
        "id": "Im4IMpxp8cgC"
      }
    },
    {
      "cell_type": "code",
      "execution_count": 1,
      "metadata": {
        "id": "JVukV42A0iae"
      },
      "outputs": [],
      "source": [
        "import numpy as np\n",
        "import pandas as pd\n",
        "import matplotlib.pyplot as plt"
      ]
    },
    {
      "cell_type": "code",
      "source": [
        "data = pd.read_csv('https://raw.githubusercontent.com/emincingoz/Machine-Learning-Collection/main/Datasets/Churn_Modelling.csv')\n",
        "data"
      ],
      "metadata": {
        "colab": {
          "base_uri": "https://localhost:8080/",
          "height": 487
        },
        "id": "19o0t0ly07ef",
        "outputId": "6fbcddea-6e93-4ff7-d61f-c7a8e9426067"
      },
      "execution_count": 2,
      "outputs": [
        {
          "output_type": "execute_result",
          "data": {
            "text/html": [
              "\n",
              "  <div id=\"df-13438c03-6b7f-4fb8-a59f-c12390e08bed\">\n",
              "    <div class=\"colab-df-container\">\n",
              "      <div>\n",
              "<style scoped>\n",
              "    .dataframe tbody tr th:only-of-type {\n",
              "        vertical-align: middle;\n",
              "    }\n",
              "\n",
              "    .dataframe tbody tr th {\n",
              "        vertical-align: top;\n",
              "    }\n",
              "\n",
              "    .dataframe thead th {\n",
              "        text-align: right;\n",
              "    }\n",
              "</style>\n",
              "<table border=\"1\" class=\"dataframe\">\n",
              "  <thead>\n",
              "    <tr style=\"text-align: right;\">\n",
              "      <th></th>\n",
              "      <th>RowNumber</th>\n",
              "      <th>CustomerId</th>\n",
              "      <th>Surname</th>\n",
              "      <th>CreditScore</th>\n",
              "      <th>Geography</th>\n",
              "      <th>Gender</th>\n",
              "      <th>Age</th>\n",
              "      <th>Tenure</th>\n",
              "      <th>Balance</th>\n",
              "      <th>NumOfProducts</th>\n",
              "      <th>HasCrCard</th>\n",
              "      <th>IsActiveMember</th>\n",
              "      <th>EstimatedSalary</th>\n",
              "      <th>Exited</th>\n",
              "    </tr>\n",
              "  </thead>\n",
              "  <tbody>\n",
              "    <tr>\n",
              "      <th>0</th>\n",
              "      <td>1</td>\n",
              "      <td>15634602</td>\n",
              "      <td>Hargrave</td>\n",
              "      <td>619</td>\n",
              "      <td>France</td>\n",
              "      <td>Female</td>\n",
              "      <td>42</td>\n",
              "      <td>2</td>\n",
              "      <td>0.00</td>\n",
              "      <td>1</td>\n",
              "      <td>1</td>\n",
              "      <td>1</td>\n",
              "      <td>101348.88</td>\n",
              "      <td>1</td>\n",
              "    </tr>\n",
              "    <tr>\n",
              "      <th>1</th>\n",
              "      <td>2</td>\n",
              "      <td>15647311</td>\n",
              "      <td>Hill</td>\n",
              "      <td>608</td>\n",
              "      <td>Spain</td>\n",
              "      <td>Female</td>\n",
              "      <td>41</td>\n",
              "      <td>1</td>\n",
              "      <td>83807.86</td>\n",
              "      <td>1</td>\n",
              "      <td>0</td>\n",
              "      <td>1</td>\n",
              "      <td>112542.58</td>\n",
              "      <td>0</td>\n",
              "    </tr>\n",
              "    <tr>\n",
              "      <th>2</th>\n",
              "      <td>3</td>\n",
              "      <td>15619304</td>\n",
              "      <td>Onio</td>\n",
              "      <td>502</td>\n",
              "      <td>France</td>\n",
              "      <td>Female</td>\n",
              "      <td>42</td>\n",
              "      <td>8</td>\n",
              "      <td>159660.80</td>\n",
              "      <td>3</td>\n",
              "      <td>1</td>\n",
              "      <td>0</td>\n",
              "      <td>113931.57</td>\n",
              "      <td>1</td>\n",
              "    </tr>\n",
              "    <tr>\n",
              "      <th>3</th>\n",
              "      <td>4</td>\n",
              "      <td>15701354</td>\n",
              "      <td>Boni</td>\n",
              "      <td>699</td>\n",
              "      <td>France</td>\n",
              "      <td>Female</td>\n",
              "      <td>39</td>\n",
              "      <td>1</td>\n",
              "      <td>0.00</td>\n",
              "      <td>2</td>\n",
              "      <td>0</td>\n",
              "      <td>0</td>\n",
              "      <td>93826.63</td>\n",
              "      <td>0</td>\n",
              "    </tr>\n",
              "    <tr>\n",
              "      <th>4</th>\n",
              "      <td>5</td>\n",
              "      <td>15737888</td>\n",
              "      <td>Mitchell</td>\n",
              "      <td>850</td>\n",
              "      <td>Spain</td>\n",
              "      <td>Female</td>\n",
              "      <td>43</td>\n",
              "      <td>2</td>\n",
              "      <td>125510.82</td>\n",
              "      <td>1</td>\n",
              "      <td>1</td>\n",
              "      <td>1</td>\n",
              "      <td>79084.10</td>\n",
              "      <td>0</td>\n",
              "    </tr>\n",
              "    <tr>\n",
              "      <th>...</th>\n",
              "      <td>...</td>\n",
              "      <td>...</td>\n",
              "      <td>...</td>\n",
              "      <td>...</td>\n",
              "      <td>...</td>\n",
              "      <td>...</td>\n",
              "      <td>...</td>\n",
              "      <td>...</td>\n",
              "      <td>...</td>\n",
              "      <td>...</td>\n",
              "      <td>...</td>\n",
              "      <td>...</td>\n",
              "      <td>...</td>\n",
              "      <td>...</td>\n",
              "    </tr>\n",
              "    <tr>\n",
              "      <th>9995</th>\n",
              "      <td>9996</td>\n",
              "      <td>15606229</td>\n",
              "      <td>Obijiaku</td>\n",
              "      <td>771</td>\n",
              "      <td>France</td>\n",
              "      <td>Male</td>\n",
              "      <td>39</td>\n",
              "      <td>5</td>\n",
              "      <td>0.00</td>\n",
              "      <td>2</td>\n",
              "      <td>1</td>\n",
              "      <td>0</td>\n",
              "      <td>96270.64</td>\n",
              "      <td>0</td>\n",
              "    </tr>\n",
              "    <tr>\n",
              "      <th>9996</th>\n",
              "      <td>9997</td>\n",
              "      <td>15569892</td>\n",
              "      <td>Johnstone</td>\n",
              "      <td>516</td>\n",
              "      <td>France</td>\n",
              "      <td>Male</td>\n",
              "      <td>35</td>\n",
              "      <td>10</td>\n",
              "      <td>57369.61</td>\n",
              "      <td>1</td>\n",
              "      <td>1</td>\n",
              "      <td>1</td>\n",
              "      <td>101699.77</td>\n",
              "      <td>0</td>\n",
              "    </tr>\n",
              "    <tr>\n",
              "      <th>9997</th>\n",
              "      <td>9998</td>\n",
              "      <td>15584532</td>\n",
              "      <td>Liu</td>\n",
              "      <td>709</td>\n",
              "      <td>France</td>\n",
              "      <td>Female</td>\n",
              "      <td>36</td>\n",
              "      <td>7</td>\n",
              "      <td>0.00</td>\n",
              "      <td>1</td>\n",
              "      <td>0</td>\n",
              "      <td>1</td>\n",
              "      <td>42085.58</td>\n",
              "      <td>1</td>\n",
              "    </tr>\n",
              "    <tr>\n",
              "      <th>9998</th>\n",
              "      <td>9999</td>\n",
              "      <td>15682355</td>\n",
              "      <td>Sabbatini</td>\n",
              "      <td>772</td>\n",
              "      <td>Germany</td>\n",
              "      <td>Male</td>\n",
              "      <td>42</td>\n",
              "      <td>3</td>\n",
              "      <td>75075.31</td>\n",
              "      <td>2</td>\n",
              "      <td>1</td>\n",
              "      <td>0</td>\n",
              "      <td>92888.52</td>\n",
              "      <td>1</td>\n",
              "    </tr>\n",
              "    <tr>\n",
              "      <th>9999</th>\n",
              "      <td>10000</td>\n",
              "      <td>15628319</td>\n",
              "      <td>Walker</td>\n",
              "      <td>792</td>\n",
              "      <td>France</td>\n",
              "      <td>Female</td>\n",
              "      <td>28</td>\n",
              "      <td>4</td>\n",
              "      <td>130142.79</td>\n",
              "      <td>1</td>\n",
              "      <td>1</td>\n",
              "      <td>0</td>\n",
              "      <td>38190.78</td>\n",
              "      <td>0</td>\n",
              "    </tr>\n",
              "  </tbody>\n",
              "</table>\n",
              "<p>10000 rows × 14 columns</p>\n",
              "</div>\n",
              "      <button class=\"colab-df-convert\" onclick=\"convertToInteractive('df-13438c03-6b7f-4fb8-a59f-c12390e08bed')\"\n",
              "              title=\"Convert this dataframe to an interactive table.\"\n",
              "              style=\"display:none;\">\n",
              "        \n",
              "  <svg xmlns=\"http://www.w3.org/2000/svg\" height=\"24px\"viewBox=\"0 0 24 24\"\n",
              "       width=\"24px\">\n",
              "    <path d=\"M0 0h24v24H0V0z\" fill=\"none\"/>\n",
              "    <path d=\"M18.56 5.44l.94 2.06.94-2.06 2.06-.94-2.06-.94-.94-2.06-.94 2.06-2.06.94zm-11 1L8.5 8.5l.94-2.06 2.06-.94-2.06-.94L8.5 2.5l-.94 2.06-2.06.94zm10 10l.94 2.06.94-2.06 2.06-.94-2.06-.94-.94-2.06-.94 2.06-2.06.94z\"/><path d=\"M17.41 7.96l-1.37-1.37c-.4-.4-.92-.59-1.43-.59-.52 0-1.04.2-1.43.59L10.3 9.45l-7.72 7.72c-.78.78-.78 2.05 0 2.83L4 21.41c.39.39.9.59 1.41.59.51 0 1.02-.2 1.41-.59l7.78-7.78 2.81-2.81c.8-.78.8-2.07 0-2.86zM5.41 20L4 18.59l7.72-7.72 1.47 1.35L5.41 20z\"/>\n",
              "  </svg>\n",
              "      </button>\n",
              "      \n",
              "  <style>\n",
              "    .colab-df-container {\n",
              "      display:flex;\n",
              "      flex-wrap:wrap;\n",
              "      gap: 12px;\n",
              "    }\n",
              "\n",
              "    .colab-df-convert {\n",
              "      background-color: #E8F0FE;\n",
              "      border: none;\n",
              "      border-radius: 50%;\n",
              "      cursor: pointer;\n",
              "      display: none;\n",
              "      fill: #1967D2;\n",
              "      height: 32px;\n",
              "      padding: 0 0 0 0;\n",
              "      width: 32px;\n",
              "    }\n",
              "\n",
              "    .colab-df-convert:hover {\n",
              "      background-color: #E2EBFA;\n",
              "      box-shadow: 0px 1px 2px rgba(60, 64, 67, 0.3), 0px 1px 3px 1px rgba(60, 64, 67, 0.15);\n",
              "      fill: #174EA6;\n",
              "    }\n",
              "\n",
              "    [theme=dark] .colab-df-convert {\n",
              "      background-color: #3B4455;\n",
              "      fill: #D2E3FC;\n",
              "    }\n",
              "\n",
              "    [theme=dark] .colab-df-convert:hover {\n",
              "      background-color: #434B5C;\n",
              "      box-shadow: 0px 1px 3px 1px rgba(0, 0, 0, 0.15);\n",
              "      filter: drop-shadow(0px 1px 2px rgba(0, 0, 0, 0.3));\n",
              "      fill: #FFFFFF;\n",
              "    }\n",
              "  </style>\n",
              "\n",
              "      <script>\n",
              "        const buttonEl =\n",
              "          document.querySelector('#df-13438c03-6b7f-4fb8-a59f-c12390e08bed button.colab-df-convert');\n",
              "        buttonEl.style.display =\n",
              "          google.colab.kernel.accessAllowed ? 'block' : 'none';\n",
              "\n",
              "        async function convertToInteractive(key) {\n",
              "          const element = document.querySelector('#df-13438c03-6b7f-4fb8-a59f-c12390e08bed');\n",
              "          const dataTable =\n",
              "            await google.colab.kernel.invokeFunction('convertToInteractive',\n",
              "                                                     [key], {});\n",
              "          if (!dataTable) return;\n",
              "\n",
              "          const docLinkHtml = 'Like what you see? Visit the ' +\n",
              "            '<a target=\"_blank\" href=https://colab.research.google.com/notebooks/data_table.ipynb>data table notebook</a>'\n",
              "            + ' to learn more about interactive tables.';\n",
              "          element.innerHTML = '';\n",
              "          dataTable['output_type'] = 'display_data';\n",
              "          await google.colab.output.renderOutput(dataTable, element);\n",
              "          const docLink = document.createElement('div');\n",
              "          docLink.innerHTML = docLinkHtml;\n",
              "          element.appendChild(docLink);\n",
              "        }\n",
              "      </script>\n",
              "    </div>\n",
              "  </div>\n",
              "  "
            ],
            "text/plain": [
              "      RowNumber  CustomerId    Surname  ...  IsActiveMember EstimatedSalary Exited\n",
              "0             1    15634602   Hargrave  ...               1       101348.88      1\n",
              "1             2    15647311       Hill  ...               1       112542.58      0\n",
              "2             3    15619304       Onio  ...               0       113931.57      1\n",
              "3             4    15701354       Boni  ...               0        93826.63      0\n",
              "4             5    15737888   Mitchell  ...               1        79084.10      0\n",
              "...         ...         ...        ...  ...             ...             ...    ...\n",
              "9995       9996    15606229   Obijiaku  ...               0        96270.64      0\n",
              "9996       9997    15569892  Johnstone  ...               1       101699.77      0\n",
              "9997       9998    15584532        Liu  ...               1        42085.58      1\n",
              "9998       9999    15682355  Sabbatini  ...               0        92888.52      1\n",
              "9999      10000    15628319     Walker  ...               0        38190.78      0\n",
              "\n",
              "[10000 rows x 14 columns]"
            ]
          },
          "metadata": {},
          "execution_count": 2
        }
      ]
    },
    {
      "cell_type": "markdown",
      "source": [
        "### Check Missing Values"
      ],
      "metadata": {
        "id": "S3bLsfycGIqU"
      }
    },
    {
      "cell_type": "code",
      "source": [
        "print(data.isnull().sum())"
      ],
      "metadata": {
        "colab": {
          "base_uri": "https://localhost:8080/"
        },
        "id": "Nq37hpcJ03gb",
        "outputId": "acbe0006-5678-4e7c-d5b6-5bbc78427641"
      },
      "execution_count": 3,
      "outputs": [
        {
          "output_type": "stream",
          "name": "stdout",
          "text": [
            "RowNumber          0\n",
            "CustomerId         0\n",
            "Surname            0\n",
            "CreditScore        0\n",
            "Geography          0\n",
            "Gender             0\n",
            "Age                0\n",
            "Tenure             0\n",
            "Balance            0\n",
            "NumOfProducts      0\n",
            "HasCrCard          0\n",
            "IsActiveMember     0\n",
            "EstimatedSalary    0\n",
            "Exited             0\n",
            "dtype: int64\n"
          ]
        }
      ]
    },
    {
      "cell_type": "markdown",
      "source": [
        "### Data Slicing"
      ],
      "metadata": {
        "id": "jjFtzN-qGQ56"
      }
    },
    {
      "cell_type": "code",
      "source": [
        "x = data.iloc[:, 3:13].values     # [CreditScore, EstimatedSalary]\n",
        "y = data.iloc[:, 13].values       # Exited"
      ],
      "metadata": {
        "id": "U96xRvfi2skQ"
      },
      "execution_count": 4,
      "outputs": []
    },
    {
      "cell_type": "markdown",
      "source": [
        "### Data Encoding"
      ],
      "metadata": {
        "id": "qbhL_w65GXR_"
      }
    },
    {
      "cell_type": "code",
      "source": [
        "from sklearn.preprocessing import LabelEncoder\n",
        "\n",
        "le_geography = LabelEncoder()\n",
        "x[:, 1] = le_geography.fit_transform(x[:, 1])\n",
        "\n",
        "le_gender = LabelEncoder()\n",
        "x[:, 2] = le_gender.fit_transform(x[:, 2])   # Female -> 0, Male -> 1\n",
        "\n",
        "\n",
        "from sklearn.preprocessing import OneHotEncoder\n",
        "from sklearn.compose import ColumnTransformer\n",
        "\n",
        "ohe =ColumnTransformer([(\"ohe\", OneHotEncoder(dtype = float), [1])], remainder = \"passthrough\")\n",
        "x = ohe.fit_transform(x)\n",
        "x = x[:, 1:]     # Dummy variable removed\n",
        "print(x)"
      ],
      "metadata": {
        "colab": {
          "base_uri": "https://localhost:8080/"
        },
        "id": "6VrYiceN3v7C",
        "outputId": "9caec298-db2b-41ed-b49e-4e5fabdd2316"
      },
      "execution_count": 5,
      "outputs": [
        {
          "output_type": "stream",
          "name": "stdout",
          "text": [
            "[[0.0 0.0 619 ... 1 1 101348.88]\n",
            " [0.0 1.0 608 ... 0 1 112542.58]\n",
            " [0.0 0.0 502 ... 1 0 113931.57]\n",
            " ...\n",
            " [0.0 0.0 709 ... 0 1 42085.58]\n",
            " [1.0 0.0 772 ... 1 0 92888.52]\n",
            " [0.0 0.0 792 ... 1 0 38190.78]]\n"
          ]
        }
      ]
    },
    {
      "cell_type": "code",
      "source": [
        "from sklearn.model_selection import train_test_split\n",
        "\n",
        "x_train, x_test, y_train, y_test = train_test_split(x, y, test_size = 0.33, random_state = 0)"
      ],
      "metadata": {
        "id": "PywwoVjm3yWe"
      },
      "execution_count": 6,
      "outputs": []
    },
    {
      "cell_type": "markdown",
      "source": [
        "### Data Scaling"
      ],
      "metadata": {
        "id": "xxrGALwPGgNB"
      }
    },
    {
      "cell_type": "code",
      "source": [
        "from sklearn.preprocessing import StandardScaler\n",
        "\n",
        "sc = StandardScaler()\n",
        "X_train = sc.fit_transform(x_train)\n",
        "X_test = sc.fit_transform(x_test)"
      ],
      "metadata": {
        "id": "NAcUnPwq3zAT"
      },
      "execution_count": 7,
      "outputs": []
    },
    {
      "cell_type": "markdown",
      "source": [
        "## Artificial Neural Network Build"
      ],
      "metadata": {
        "id": "4-CCZKK0GjMR"
      }
    },
    {
      "cell_type": "code",
      "source": [
        "import keras\n",
        "from keras.models import Sequential\n",
        "from keras.layers import Dense         # for layers\n",
        "\n",
        "# Create an ann model\n",
        "ann = Sequential()\n",
        "\n",
        "# Adding a hidden Layer to artificial neural network model\n",
        "# units: Number of neuron\n",
        "# activation: Activation function\n",
        "  # relu: Rectified Linear Unit Activation Function (max(x, 0))\n",
        "ann.add(Dense(units = 6, \n",
        "              #init = 'uniform', \n",
        "              activation = 'relu', \n",
        "              input_dim = 11))\n",
        "\n",
        "# Hidden Layer\n",
        "ann.add(Dense(units = 6, \n",
        "              #init = 'uniform', \n",
        "              activation = 'relu'))\n",
        "\n",
        "# Output Layer\n",
        "ann.add(Dense(units = 1,\n",
        "              #init = 'uniform',\n",
        "              activation = 'sigmoid'))\n",
        "\n",
        "ann.summary()"
      ],
      "metadata": {
        "colab": {
          "base_uri": "https://localhost:8080/"
        },
        "id": "CgoJ7tH68LZ0",
        "outputId": "b3070e0d-3b32-4952-c635-15d02f9ad7c6"
      },
      "execution_count": 8,
      "outputs": [
        {
          "output_type": "stream",
          "name": "stdout",
          "text": [
            "Model: \"sequential\"\n",
            "_________________________________________________________________\n",
            " Layer (type)                Output Shape              Param #   \n",
            "=================================================================\n",
            " dense (Dense)               (None, 6)                 72        \n",
            "                                                                 \n",
            " dense_1 (Dense)             (None, 6)                 42        \n",
            "                                                                 \n",
            " dense_2 (Dense)             (None, 1)                 7         \n",
            "                                                                 \n",
            "=================================================================\n",
            "Total params: 121\n",
            "Trainable params: 121\n",
            "Non-trainable params: 0\n",
            "_________________________________________________________________\n"
          ]
        }
      ]
    },
    {
      "cell_type": "markdown",
      "source": [
        "### Compiling Layers and Training\n"
      ],
      "metadata": {
        "id": "Xyl6y8PeG76g"
      }
    },
    {
      "cell_type": "code",
      "source": [
        "ann.compile(optimizer = 'adam',\n",
        "            loss = 'binary_crossentropy',\n",
        "            metrics = ['accuracy'])\n",
        "\n",
        "ann.fit(X_train, y_train, epochs = 50)"
      ],
      "metadata": {
        "colab": {
          "base_uri": "https://localhost:8080/"
        },
        "id": "1lgFCp55_SOq",
        "outputId": "fe3aaa3f-bc4d-41ac-cb33-ceeeded6582d"
      },
      "execution_count": 9,
      "outputs": [
        {
          "output_type": "stream",
          "name": "stdout",
          "text": [
            "Epoch 1/50\n",
            "210/210 [==============================] - 1s 2ms/step - loss: 0.6027 - accuracy: 0.7190\n",
            "Epoch 2/50\n",
            "210/210 [==============================] - 0s 2ms/step - loss: 0.4824 - accuracy: 0.7979\n",
            "Epoch 3/50\n",
            "210/210 [==============================] - 0s 2ms/step - loss: 0.4576 - accuracy: 0.7987\n",
            "Epoch 4/50\n",
            "210/210 [==============================] - 0s 2ms/step - loss: 0.4428 - accuracy: 0.8030\n",
            "Epoch 5/50\n",
            "210/210 [==============================] - 0s 2ms/step - loss: 0.4319 - accuracy: 0.8097\n",
            "Epoch 6/50\n",
            "210/210 [==============================] - 1s 3ms/step - loss: 0.4232 - accuracy: 0.8184\n",
            "Epoch 7/50\n",
            "210/210 [==============================] - 1s 3ms/step - loss: 0.4160 - accuracy: 0.8242\n",
            "Epoch 8/50\n",
            "210/210 [==============================] - 1s 3ms/step - loss: 0.4102 - accuracy: 0.8257\n",
            "Epoch 9/50\n",
            "210/210 [==============================] - 1s 3ms/step - loss: 0.4049 - accuracy: 0.8306\n",
            "Epoch 10/50\n",
            "210/210 [==============================] - 1s 3ms/step - loss: 0.3987 - accuracy: 0.8337\n",
            "Epoch 11/50\n",
            "210/210 [==============================] - 1s 4ms/step - loss: 0.3907 - accuracy: 0.8403\n",
            "Epoch 12/50\n",
            "210/210 [==============================] - 1s 3ms/step - loss: 0.3817 - accuracy: 0.8451\n",
            "Epoch 13/50\n",
            "210/210 [==============================] - 1s 3ms/step - loss: 0.3722 - accuracy: 0.8475\n",
            "Epoch 14/50\n",
            "210/210 [==============================] - 1s 4ms/step - loss: 0.3644 - accuracy: 0.8528\n",
            "Epoch 15/50\n",
            "210/210 [==============================] - 1s 4ms/step - loss: 0.3590 - accuracy: 0.8554\n",
            "Epoch 16/50\n",
            "210/210 [==============================] - 1s 3ms/step - loss: 0.3550 - accuracy: 0.8573\n",
            "Epoch 17/50\n",
            "210/210 [==============================] - 1s 3ms/step - loss: 0.3523 - accuracy: 0.8584\n",
            "Epoch 18/50\n",
            "210/210 [==============================] - 1s 4ms/step - loss: 0.3504 - accuracy: 0.8588\n",
            "Epoch 19/50\n",
            "210/210 [==============================] - 1s 3ms/step - loss: 0.3487 - accuracy: 0.8603\n",
            "Epoch 20/50\n",
            "210/210 [==============================] - 1s 3ms/step - loss: 0.3475 - accuracy: 0.8599\n",
            "Epoch 21/50\n",
            "210/210 [==============================] - 1s 3ms/step - loss: 0.3460 - accuracy: 0.8603\n",
            "Epoch 22/50\n",
            "210/210 [==============================] - 1s 4ms/step - loss: 0.3452 - accuracy: 0.8609\n",
            "Epoch 23/50\n",
            "210/210 [==============================] - 1s 3ms/step - loss: 0.3443 - accuracy: 0.8619\n",
            "Epoch 24/50\n",
            "210/210 [==============================] - 1s 3ms/step - loss: 0.3436 - accuracy: 0.8616\n",
            "Epoch 25/50\n",
            "210/210 [==============================] - 1s 3ms/step - loss: 0.3432 - accuracy: 0.8624\n",
            "Epoch 26/50\n",
            "210/210 [==============================] - 1s 4ms/step - loss: 0.3424 - accuracy: 0.8624\n",
            "Epoch 27/50\n",
            "210/210 [==============================] - 1s 3ms/step - loss: 0.3425 - accuracy: 0.8628\n",
            "Epoch 28/50\n",
            "210/210 [==============================] - 1s 3ms/step - loss: 0.3419 - accuracy: 0.8631\n",
            "Epoch 29/50\n",
            "210/210 [==============================] - 1s 4ms/step - loss: 0.3416 - accuracy: 0.8639\n",
            "Epoch 30/50\n",
            "210/210 [==============================] - 1s 4ms/step - loss: 0.3411 - accuracy: 0.8619\n",
            "Epoch 31/50\n",
            "210/210 [==============================] - 1s 4ms/step - loss: 0.3408 - accuracy: 0.8622\n",
            "Epoch 32/50\n",
            "210/210 [==============================] - 1s 4ms/step - loss: 0.3404 - accuracy: 0.8615\n",
            "Epoch 33/50\n",
            "210/210 [==============================] - 1s 3ms/step - loss: 0.3399 - accuracy: 0.8633\n",
            "Epoch 34/50\n",
            "210/210 [==============================] - 1s 3ms/step - loss: 0.3396 - accuracy: 0.8619\n",
            "Epoch 35/50\n",
            "210/210 [==============================] - 1s 4ms/step - loss: 0.3393 - accuracy: 0.8627\n",
            "Epoch 36/50\n",
            "210/210 [==============================] - 1s 3ms/step - loss: 0.3386 - accuracy: 0.8622\n",
            "Epoch 37/50\n",
            "210/210 [==============================] - 1s 3ms/step - loss: 0.3387 - accuracy: 0.8618\n",
            "Epoch 38/50\n",
            "210/210 [==============================] - 1s 4ms/step - loss: 0.3382 - accuracy: 0.8612\n",
            "Epoch 39/50\n",
            "210/210 [==============================] - 1s 4ms/step - loss: 0.3382 - accuracy: 0.8619\n",
            "Epoch 40/50\n",
            "210/210 [==============================] - 1s 3ms/step - loss: 0.3377 - accuracy: 0.8621\n",
            "Epoch 41/50\n",
            "210/210 [==============================] - 1s 3ms/step - loss: 0.3376 - accuracy: 0.8642\n",
            "Epoch 42/50\n",
            "210/210 [==============================] - 1s 4ms/step - loss: 0.3373 - accuracy: 0.8616\n",
            "Epoch 43/50\n",
            "210/210 [==============================] - 1s 4ms/step - loss: 0.3372 - accuracy: 0.8616\n",
            "Epoch 44/50\n",
            "210/210 [==============================] - 1s 3ms/step - loss: 0.3373 - accuracy: 0.8625\n",
            "Epoch 45/50\n",
            "210/210 [==============================] - 1s 3ms/step - loss: 0.3373 - accuracy: 0.8636\n",
            "Epoch 46/50\n",
            "210/210 [==============================] - 1s 3ms/step - loss: 0.3363 - accuracy: 0.8627\n",
            "Epoch 47/50\n",
            "210/210 [==============================] - 1s 3ms/step - loss: 0.3371 - accuracy: 0.8616\n",
            "Epoch 48/50\n",
            "210/210 [==============================] - 1s 3ms/step - loss: 0.3362 - accuracy: 0.8628\n",
            "Epoch 49/50\n",
            "210/210 [==============================] - 1s 4ms/step - loss: 0.3357 - accuracy: 0.8613\n",
            "Epoch 50/50\n",
            "210/210 [==============================] - 1s 3ms/step - loss: 0.3365 - accuracy: 0.8600\n"
          ]
        },
        {
          "output_type": "execute_result",
          "data": {
            "text/plain": [
              "<keras.callbacks.History at 0x7faea9111950>"
            ]
          },
          "metadata": {},
          "execution_count": 9
        }
      ]
    },
    {
      "cell_type": "markdown",
      "source": [
        "### Making a Prediction"
      ],
      "metadata": {
        "id": "hWkwmoaFHHk3"
      }
    },
    {
      "cell_type": "code",
      "source": [
        "y_pred = ann.predict(X_test)\n",
        "print(y_pred)"
      ],
      "metadata": {
        "colab": {
          "base_uri": "https://localhost:8080/"
        },
        "id": "oFfykXjlC1-g",
        "outputId": "b82c57d6-170b-497c-d41a-4cab32f67a39"
      },
      "execution_count": 10,
      "outputs": [
        {
          "output_type": "stream",
          "name": "stdout",
          "text": [
            "[[0.315771  ]\n",
            " [0.29263633]\n",
            " [0.13466904]\n",
            " ...\n",
            " [0.20480934]\n",
            " [0.57217294]\n",
            " [0.03467488]]\n"
          ]
        }
      ]
    },
    {
      "cell_type": "code",
      "source": [
        "y_pred = (y_pred > 0.5)\n",
        "print(y_pred)"
      ],
      "metadata": {
        "colab": {
          "base_uri": "https://localhost:8080/"
        },
        "id": "KKBErOenDWd0",
        "outputId": "045a7d24-3bae-4859-b646-dee71b8b2cee"
      },
      "execution_count": 11,
      "outputs": [
        {
          "output_type": "stream",
          "name": "stdout",
          "text": [
            "[[False]\n",
            " [False]\n",
            " [False]\n",
            " ...\n",
            " [False]\n",
            " [ True]\n",
            " [False]]\n"
          ]
        }
      ]
    },
    {
      "cell_type": "markdown",
      "source": [
        "### Confusion Matrix"
      ],
      "metadata": {
        "id": "uTmIhiJcHL8D"
      }
    },
    {
      "cell_type": "code",
      "source": [
        "from sklearn.metrics import confusion_matrix\n",
        "import seaborn as sns\n",
        " \n",
        "cm = confusion_matrix(y_pred, y_test)\n",
        "print(cm)"
      ],
      "metadata": {
        "colab": {
          "base_uri": "https://localhost:8080/"
        },
        "id": "r95kVVJgD9YU",
        "outputId": "dec92155-2a8f-4744-ec94-f246b0a8462e"
      },
      "execution_count": 15,
      "outputs": [
        {
          "output_type": "stream",
          "name": "stdout",
          "text": [
            "[[2503  364]\n",
            " [ 114  319]]\n"
          ]
        }
      ]
    },
    {
      "cell_type": "code",
      "source": [
        ""
      ],
      "metadata": {
        "id": "AN6tbFVRqBLd"
      },
      "execution_count": null,
      "outputs": []
    }
  ]
}