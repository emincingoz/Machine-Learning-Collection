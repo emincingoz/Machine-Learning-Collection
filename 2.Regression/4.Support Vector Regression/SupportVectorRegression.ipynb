{
 "cells": [
  {
   "cell_type": "markdown",
   "id": "ce5339b3",
   "metadata": {},
   "source": [
    "# Support Vector Regression"
   ]
  },
  {
   "cell_type": "code",
   "execution_count": 1,
   "id": "9a421e7d",
   "metadata": {},
   "outputs": [],
   "source": [
    "# Import Libraries\n",
    "import numpy as np\n",
    "import pandas as pd\n",
    "import matplotlib.pyplot as plt"
   ]
  },
  {
   "cell_type": "code",
   "execution_count": 2,
   "id": "90f66cda",
   "metadata": {},
   "outputs": [
    {
     "data": {
      "text/html": [
       "<div>\n",
       "<style scoped>\n",
       "    .dataframe tbody tr th:only-of-type {\n",
       "        vertical-align: middle;\n",
       "    }\n",
       "\n",
       "    .dataframe tbody tr th {\n",
       "        vertical-align: top;\n",
       "    }\n",
       "\n",
       "    .dataframe thead th {\n",
       "        text-align: right;\n",
       "    }\n",
       "</style>\n",
       "<table border=\"1\" class=\"dataframe\">\n",
       "  <thead>\n",
       "    <tr style=\"text-align: right;\">\n",
       "      <th></th>\n",
       "      <th>unvan</th>\n",
       "      <th>Egitim Seviyesi</th>\n",
       "      <th>maas</th>\n",
       "    </tr>\n",
       "  </thead>\n",
       "  <tbody>\n",
       "    <tr>\n",
       "      <th>0</th>\n",
       "      <td>Cayci</td>\n",
       "      <td>1</td>\n",
       "      <td>2250</td>\n",
       "    </tr>\n",
       "    <tr>\n",
       "      <th>1</th>\n",
       "      <td>Sekreter</td>\n",
       "      <td>2</td>\n",
       "      <td>2500</td>\n",
       "    </tr>\n",
       "    <tr>\n",
       "      <th>2</th>\n",
       "      <td>Uzman Yardimcisi</td>\n",
       "      <td>3</td>\n",
       "      <td>3000</td>\n",
       "    </tr>\n",
       "    <tr>\n",
       "      <th>3</th>\n",
       "      <td>Uzman</td>\n",
       "      <td>4</td>\n",
       "      <td>4000</td>\n",
       "    </tr>\n",
       "    <tr>\n",
       "      <th>4</th>\n",
       "      <td>Proje Yoneticisi</td>\n",
       "      <td>5</td>\n",
       "      <td>5500</td>\n",
       "    </tr>\n",
       "  </tbody>\n",
       "</table>\n",
       "</div>"
      ],
      "text/plain": [
       "              unvan  Egitim Seviyesi  maas\n",
       "0             Cayci                1  2250\n",
       "1          Sekreter                2  2500\n",
       "2  Uzman Yardimcisi                3  3000\n",
       "3             Uzman                4  4000\n",
       "4  Proje Yoneticisi                5  5500"
      ]
     },
     "execution_count": 2,
     "metadata": {},
     "output_type": "execute_result"
    }
   ],
   "source": [
    "# Import dataset\n",
    "data = pd.read_csv('maaslar.csv')\n",
    "data.head()"
   ]
  },
  {
   "cell_type": "code",
   "execution_count": 3,
   "id": "345f85ab",
   "metadata": {},
   "outputs": [
    {
     "data": {
      "text/plain": [
       "unvan              0\n",
       "Egitim Seviyesi    0\n",
       "maas               0\n",
       "dtype: int64"
      ]
     },
     "execution_count": 3,
     "metadata": {},
     "output_type": "execute_result"
    }
   ],
   "source": [
    "# Check null values in data\n",
    "data.isnull().sum()"
   ]
  },
  {
   "cell_type": "code",
   "execution_count": 4,
   "id": "45886ffb",
   "metadata": {},
   "outputs": [
    {
     "data": {
      "text/html": [
       "<div>\n",
       "<style scoped>\n",
       "    .dataframe tbody tr th:only-of-type {\n",
       "        vertical-align: middle;\n",
       "    }\n",
       "\n",
       "    .dataframe tbody tr th {\n",
       "        vertical-align: top;\n",
       "    }\n",
       "\n",
       "    .dataframe thead th {\n",
       "        text-align: right;\n",
       "    }\n",
       "</style>\n",
       "<table border=\"1\" class=\"dataframe\">\n",
       "  <thead>\n",
       "    <tr style=\"text-align: right;\">\n",
       "      <th></th>\n",
       "      <th>Egitim Seviyesi</th>\n",
       "      <th>maas</th>\n",
       "    </tr>\n",
       "  </thead>\n",
       "  <tbody>\n",
       "    <tr>\n",
       "      <th>Egitim Seviyesi</th>\n",
       "      <td>1.000000</td>\n",
       "      <td>0.817949</td>\n",
       "    </tr>\n",
       "    <tr>\n",
       "      <th>maas</th>\n",
       "      <td>0.817949</td>\n",
       "      <td>1.000000</td>\n",
       "    </tr>\n",
       "  </tbody>\n",
       "</table>\n",
       "</div>"
      ],
      "text/plain": [
       "                 Egitim Seviyesi      maas\n",
       "Egitim Seviyesi         1.000000  0.817949\n",
       "maas                    0.817949  1.000000"
      ]
     },
     "execution_count": 4,
     "metadata": {},
     "output_type": "execute_result"
    }
   ],
   "source": [
    "# Data correlation (the relation between the dependent and independent columns)\n",
    "# [-1,0) correlation: Negatively correlated. They oppositely affect each other\n",
    "# (0,1] correlation: Positively correlated. They positively affect each other\n",
    "# 0 correlation: There is no correlation between dependent and independent variables\n",
    "data.corr()"
   ]
  },
  {
   "cell_type": "code",
   "execution_count": 5,
   "id": "346d6ec9",
   "metadata": {},
   "outputs": [
    {
     "data": {
      "text/html": [
       "<div>\n",
       "<style scoped>\n",
       "    .dataframe tbody tr th:only-of-type {\n",
       "        vertical-align: middle;\n",
       "    }\n",
       "\n",
       "    .dataframe tbody tr th {\n",
       "        vertical-align: top;\n",
       "    }\n",
       "\n",
       "    .dataframe thead th {\n",
       "        text-align: right;\n",
       "    }\n",
       "</style>\n",
       "<table border=\"1\" class=\"dataframe\">\n",
       "  <thead>\n",
       "    <tr style=\"text-align: right;\">\n",
       "      <th></th>\n",
       "      <th>Egitim Seviyesi</th>\n",
       "      <th>maas</th>\n",
       "    </tr>\n",
       "  </thead>\n",
       "  <tbody>\n",
       "    <tr>\n",
       "      <th>count</th>\n",
       "      <td>10.00000</td>\n",
       "      <td>10.000000</td>\n",
       "    </tr>\n",
       "    <tr>\n",
       "      <th>mean</th>\n",
       "      <td>5.50000</td>\n",
       "      <td>12475.000000</td>\n",
       "    </tr>\n",
       "    <tr>\n",
       "      <th>std</th>\n",
       "      <td>3.02765</td>\n",
       "      <td>14968.694183</td>\n",
       "    </tr>\n",
       "    <tr>\n",
       "      <th>min</th>\n",
       "      <td>1.00000</td>\n",
       "      <td>2250.000000</td>\n",
       "    </tr>\n",
       "    <tr>\n",
       "      <th>25%</th>\n",
       "      <td>3.25000</td>\n",
       "      <td>3250.000000</td>\n",
       "    </tr>\n",
       "    <tr>\n",
       "      <th>50%</th>\n",
       "      <td>5.50000</td>\n",
       "      <td>6500.000000</td>\n",
       "    </tr>\n",
       "    <tr>\n",
       "      <th>75%</th>\n",
       "      <td>7.75000</td>\n",
       "      <td>13750.000000</td>\n",
       "    </tr>\n",
       "    <tr>\n",
       "      <th>max</th>\n",
       "      <td>10.00000</td>\n",
       "      <td>50000.000000</td>\n",
       "    </tr>\n",
       "  </tbody>\n",
       "</table>\n",
       "</div>"
      ],
      "text/plain": [
       "       Egitim Seviyesi          maas\n",
       "count         10.00000     10.000000\n",
       "mean           5.50000  12475.000000\n",
       "std            3.02765  14968.694183\n",
       "min            1.00000   2250.000000\n",
       "25%            3.25000   3250.000000\n",
       "50%            5.50000   6500.000000\n",
       "75%            7.75000  13750.000000\n",
       "max           10.00000  50000.000000"
      ]
     },
     "execution_count": 5,
     "metadata": {},
     "output_type": "execute_result"
    }
   ],
   "source": [
    "data.describe()"
   ]
  },
  {
   "cell_type": "markdown",
   "id": "5511e296",
   "metadata": {},
   "source": [
    "### Dataframe Slicing"
   ]
  },
  {
   "cell_type": "code",
   "execution_count": 6,
   "id": "3b0ed275",
   "metadata": {},
   "outputs": [],
   "source": [
    "x = data.iloc[:, 1:2].values\n",
    "y = data.iloc[:, 2:].values"
   ]
  },
  {
   "cell_type": "markdown",
   "id": "6f5248f5",
   "metadata": {},
   "source": [
    "## Data Scaling"
   ]
  },
  {
   "cell_type": "markdown",
   "id": "932d68fa",
   "metadata": {},
   "source": [
    "Data scaling is required before using support vector regression. The fact that the data are too independent from each other \n",
    "negatively affects the estimation result."
   ]
  },
  {
   "cell_type": "code",
   "execution_count": 7,
   "id": "9f9bbb7e",
   "metadata": {},
   "outputs": [],
   "source": [
    "from sklearn.preprocessing import StandardScaler\n",
    "\n",
    "scx = StandardScaler()\n",
    "x_scaled = scx.fit_transform(x)\n",
    "\n",
    "scy = StandardScaler()\n",
    "#y_scaled = scy.fit_transform(y)\n",
    "y_scaled2 = np.ravel(scy.fit_transform(y.reshape(-1,1)))"
   ]
  },
  {
   "cell_type": "markdown",
   "id": "d4fc7b1b",
   "metadata": {},
   "source": [
    "## Fitting Support Vector Regression Model"
   ]
  },
  {
   "cell_type": "code",
   "execution_count": 8,
   "id": "ab72af88",
   "metadata": {},
   "outputs": [
    {
     "data": {
      "text/plain": [
       "SVR()"
      ]
     },
     "execution_count": 8,
     "metadata": {},
     "output_type": "execute_result"
    }
   ],
   "source": [
    "from sklearn.svm import SVR\n",
    "\n",
    "svr_reg = SVR(kernel = \"rbf\")\n",
    "svr_reg.fit(x_scaled, y_scaled2)"
   ]
  },
  {
   "cell_type": "markdown",
   "id": "32842ad0",
   "metadata": {},
   "source": [
    "## Making a Prediction"
   ]
  },
  {
   "cell_type": "code",
   "execution_count": 9,
   "id": "7f86c035",
   "metadata": {},
   "outputs": [],
   "source": [
    "y_pred = svr_reg.predict(x_scaled)"
   ]
  },
  {
   "cell_type": "markdown",
   "id": "b73c133a",
   "metadata": {},
   "source": [
    "## Visualization"
   ]
  },
  {
   "cell_type": "code",
   "execution_count": 10,
   "id": "b1301ccc",
   "metadata": {},
   "outputs": [
    {
     "data": {
      "image/png": "[encoded data removed]",
      "text/plain": [
       "<Figure size 432x288 with 1 Axes>"
      ]
     },
     "metadata": {
      "needs_background": "light"
     },
     "output_type": "display_data"
    }
   ],
   "source": [
    "plt.scatter(x_scaled, y_scaled2, color = \"red\")\n",
    "plt.plot(x_scaled, y_pred, color = \"blue\")\n",
    "plt.show()"
   ]
  },
  {
   "cell_type": "markdown",
   "id": "11ece34a",
   "metadata": {},
   "source": [
    "## Calculating Prediction Accuracy"
   ]
  },
  {
   "cell_type": "code",
   "execution_count": 11,
   "id": "a4bef979",
   "metadata": {},
   "outputs": [
    {
     "name": "stdout",
     "output_type": "stream",
     "text": [
      "0.7513836788854973\n"
     ]
    }
   ],
   "source": [
    "from sklearn.metrics import r2_score\n",
    "acc = r2_score(y_scaled2, y_pred)\n",
    "print(acc)"
   ]
  },
  {
   "cell_type": "markdown",
   "id": "3e19e618",
   "metadata": {},
   "source": [
    "### Predictions"
   ]
  },
  {
   "cell_type": "code",
   "execution_count": 12,
   "id": "2fc1e01e",
   "metadata": {},
   "outputs": [
    {
     "name": "stdout",
     "output_type": "stream",
     "text": [
      "[0.01150915]\n",
      "[0.01150915]\n"
     ]
    }
   ],
   "source": [
    "print(svr_reg.predict([[11]]))\n",
    "print(svr_reg.predict([[6.6]]))"
   ]
  }
 ],
 "metadata": {
  "kernelspec": {
   "display_name": "Python 3",
   "language": "python",
   "name": "python3"
  },
  "language_info": {
   "codemirror_mode": {
    "name": "ipython",
    "version": 3
   },
   "file_extension": ".py",
   "mimetype": "text/x-python",
   "name": "python",
   "nbconvert_exporter": "python",
   "pygments_lexer": "ipython3",
   "version": "3.8.8"
  }
 },
 "nbformat": 4,
 "nbformat_minor": 5
}
