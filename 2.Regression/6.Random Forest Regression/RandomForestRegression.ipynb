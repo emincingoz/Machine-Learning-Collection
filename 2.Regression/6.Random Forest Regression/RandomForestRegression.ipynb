{
 "cells": [
  {
   "cell_type": "markdown",
   "id": "98000f26",
   "metadata": {},
   "source": [
    "# Random Forest Regression"
   ]
  },
  {
   "cell_type": "markdown",
   "id": "4de870b0",
   "metadata": {},
   "source": [
    "Decision Tree Algoritmalarında veri arttıkça aşı öğrenme-ezberleme (overfitting) gerçekleşir. Aynı zamanda veri çok fazla arttığında oluşturulan ağaç yapısındaki dallanma çok fazla arttığı için modelin performansı düşer. Bu Decision Tree modelinde verinin çok artması istenmez. Random Forest Regression modelinde ise veri seti bölünerek alt setler oluşturulur. Oluşturulan alt setlerde ayrı ayrı Decision Tree modelleri kullanılarak oluşan sonuçların ortalaması Random Forest Regression tahminini oluşturur."
   ]
  },
  {
   "cell_type": "code",
   "execution_count": 1,
   "id": "ef1daa84",
   "metadata": {},
   "outputs": [],
   "source": [
    "# Import Libraries\n",
    "import numpy as np\n",
    "import pandas as pd\n",
    "import matplotlib.pyplot as plt"
   ]
  },
  {
   "cell_type": "code",
   "execution_count": 2,
   "id": "02981eb4",
   "metadata": {},
   "outputs": [
    {
     "data": {
      "text/html": [
       "<div>\n",
       "<style scoped>\n",
       "    .dataframe tbody tr th:only-of-type {\n",
       "        vertical-align: middle;\n",
       "    }\n",
       "\n",
       "    .dataframe tbody tr th {\n",
       "        vertical-align: top;\n",
       "    }\n",
       "\n",
       "    .dataframe thead th {\n",
       "        text-align: right;\n",
       "    }\n",
       "</style>\n",
       "<table border=\"1\" class=\"dataframe\">\n",
       "  <thead>\n",
       "    <tr style=\"text-align: right;\">\n",
       "      <th></th>\n",
       "      <th>unvan</th>\n",
       "      <th>Egitim Seviyesi</th>\n",
       "      <th>maas</th>\n",
       "    </tr>\n",
       "  </thead>\n",
       "  <tbody>\n",
       "    <tr>\n",
       "      <th>0</th>\n",
       "      <td>Cayci</td>\n",
       "      <td>1</td>\n",
       "      <td>2250</td>\n",
       "    </tr>\n",
       "    <tr>\n",
       "      <th>1</th>\n",
       "      <td>Sekreter</td>\n",
       "      <td>2</td>\n",
       "      <td>2500</td>\n",
       "    </tr>\n",
       "    <tr>\n",
       "      <th>2</th>\n",
       "      <td>Uzman Yardimcisi</td>\n",
       "      <td>3</td>\n",
       "      <td>3000</td>\n",
       "    </tr>\n",
       "    <tr>\n",
       "      <th>3</th>\n",
       "      <td>Uzman</td>\n",
       "      <td>4</td>\n",
       "      <td>4000</td>\n",
       "    </tr>\n",
       "    <tr>\n",
       "      <th>4</th>\n",
       "      <td>Proje Yoneticisi</td>\n",
       "      <td>5</td>\n",
       "      <td>5500</td>\n",
       "    </tr>\n",
       "  </tbody>\n",
       "</table>\n",
       "</div>"
      ],
      "text/plain": [
       "              unvan  Egitim Seviyesi  maas\n",
       "0             Cayci                1  2250\n",
       "1          Sekreter                2  2500\n",
       "2  Uzman Yardimcisi                3  3000\n",
       "3             Uzman                4  4000\n",
       "4  Proje Yoneticisi                5  5500"
      ]
     },
     "execution_count": 2,
     "metadata": {},
     "output_type": "execute_result"
    }
   ],
   "source": [
    "# Import dataset\n",
    "data = pd.read_csv('maaslar.csv')\n",
    "data.head()"
   ]
  },
  {
   "cell_type": "code",
   "execution_count": 3,
   "id": "238d5b1b",
   "metadata": {},
   "outputs": [
    {
     "data": {
      "text/plain": [
       "unvan              0\n",
       "Egitim Seviyesi    0\n",
       "maas               0\n",
       "dtype: int64"
      ]
     },
     "execution_count": 3,
     "metadata": {},
     "output_type": "execute_result"
    }
   ],
   "source": [
    "# Check null values in dataset\n",
    "data.isnull().sum()"
   ]
  },
  {
   "cell_type": "markdown",
   "id": "179633d1",
   "metadata": {},
   "source": [
    "## Data Frame Slicing"
   ]
  },
  {
   "cell_type": "code",
   "execution_count": 4,
   "id": "9bb398c3",
   "metadata": {},
   "outputs": [],
   "source": [
    "x = data.iloc[:, 1:2].values\n",
    "y = data.iloc[:, 2:].values"
   ]
  },
  {
   "cell_type": "markdown",
   "id": "6a58fdc2",
   "metadata": {},
   "source": [
    "## Fitting Model to Dataset"
   ]
  },
  {
   "cell_type": "code",
   "execution_count": 5,
   "id": "27c1615b",
   "metadata": {},
   "outputs": [
    {
     "data": {
      "text/plain": [
       "RandomForestRegressor(n_estimators=10, random_state=0)"
      ]
     },
     "execution_count": 5,
     "metadata": {},
     "output_type": "execute_result"
    }
   ],
   "source": [
    "from sklearn.ensemble import RandomForestRegressor\n",
    "\n",
    "# n_estimators parametresi bu modelde kullanılacak olan decision tree sayısını gösterir.\n",
    "rf_reg = RandomForestRegressor(n_estimators = 10, random_state = 0)\n",
    "rf_reg.fit(x, y.ravel())"
   ]
  },
  {
   "cell_type": "markdown",
   "id": "b30850e5",
   "metadata": {},
   "source": [
    "## Making a Prediction"
   ]
  },
  {
   "cell_type": "code",
   "execution_count": 6,
   "id": "caecf93d",
   "metadata": {},
   "outputs": [],
   "source": [
    "y_pred = rf_reg.predict(x)"
   ]
  },
  {
   "cell_type": "markdown",
   "id": "ea568c6e",
   "metadata": {},
   "source": [
    "## Visualization"
   ]
  },
  {
   "cell_type": "code",
   "execution_count": 7,
   "id": "c3332594",
   "metadata": {},
   "outputs": [
    {
     "data": {
      "image/png": "[encoded data removed]",
      "text/plain": [
       "<Figure size 432x288 with 1 Axes>"
      ]
     },
     "metadata": {
      "needs_background": "light"
     },
     "output_type": "display_data"
    }
   ],
   "source": [
    "plt.scatter(x, y, color = \"red\")\n",
    "plt.plot(x, y_pred, color = \"blue\")\n",
    "plt.show()"
   ]
  },
  {
   "cell_type": "markdown",
   "id": "2413538e",
   "metadata": {},
   "source": [
    "## Predictions"
   ]
  },
  {
   "cell_type": "markdown",
   "id": "a56d11cd",
   "metadata": {},
   "source": [
    "Random Forest Regression modelinde kullanılan Decision Tree modellerinin ortalaması alındığı için veri setinde olmayan farklı değerler oluşturulabilir."
   ]
  },
  {
   "cell_type": "code",
   "execution_count": 8,
   "id": "e8baa25f",
   "metadata": {},
   "outputs": [
    {
     "name": "stdout",
     "output_type": "stream",
     "text": [
      "[42500.]\n",
      "[10500.]\n"
     ]
    }
   ],
   "source": [
    "print(rf_reg.predict([[11]]))\n",
    "print(rf_reg.predict([[6.6]]))"
   ]
  },
  {
   "cell_type": "markdown",
   "id": "ef77bc7c",
   "metadata": {},
   "source": [
    "## Result Accuracy"
   ]
  },
  {
   "cell_type": "code",
   "execution_count": 9,
   "id": "f49850b5",
   "metadata": {},
   "outputs": [
    {
     "name": "stdout",
     "output_type": "stream",
     "text": [
      "0.9704434230386582\n"
     ]
    }
   ],
   "source": [
    "from sklearn.metrics import r2_score\n",
    "\n",
    "acc = r2_score(y, y_pred)\n",
    "print(acc)"
   ]
  }
 ],
 "metadata": {
  "kernelspec": {
   "display_name": "Python 3",
   "language": "python",
   "name": "python3"
  },
  "language_info": {
   "codemirror_mode": {
    "name": "ipython",
    "version": 3
   },
   "file_extension": ".py",
   "mimetype": "text/x-python",
   "name": "python",
   "nbconvert_exporter": "python",
   "pygments_lexer": "ipython3",
   "version": "3.8.8"
  }
 },
 "nbformat": 4,
 "nbformat_minor": 5
}
